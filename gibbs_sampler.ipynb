{
 "cells": [
  {
   "cell_type": "code",
   "execution_count": 6,
   "metadata": {},
   "outputs": [],
   "source": [
    "import numpy as np\n",
    "import matplotlib.pyplot as plt"
   ]
  },
  {
   "cell_type": "code",
   "execution_count": 31,
   "metadata": {},
   "outputs": [],
   "source": [
    "np.random.seed(42)\n",
    "N = 1000\n",
    "K = 3\n",
    "means = np.array([[1,1], [5,5], [11,3]])\n",
    "cov =  np.array([[2, 0], [0, 9]])\n",
    "X = np.vstack([np.random.multivariate_normal(mean, cov, int(N / K)) for mean in means])"
   ]
  },
  {
   "cell_type": "code",
   "execution_count": 93,
   "metadata": {},
   "outputs": [],
   "source": [
    "n = 20\n",
    "s = np.random.default_rng().dirichlet((13, 3, 3), n).transpose()"
   ]
  },
  {
   "cell_type": "code",
   "execution_count": null,
   "metadata": {},
   "outputs": [],
   "source": [
    "plt.barh(range(n), s[0])\n",
    "plt.barh(range(n), s[1], left=s[0], color='g')\n",
    "plt.barh(range(n), s[2], left=s[0]+s[1], color='r')\n",
    "plt.title(\"Lengths of Strings\")"
   ]
  },
  {
   "cell_type": "code",
   "execution_count": null,
   "metadata": {},
   "outputs": [],
   "source": [
    "np.random.seed(42)\n",
    "N = 1000\n",
    "K = 3\n",
    "means = np.array([[1,1], [5,5], [11,3]])\n",
    "cov =  np.array([[2, 0], [0, 9]])\n",
    "X = np.vstack([np.random.multivariate_normal(mean, cov, int(N / K)) for mean in means])"
   ]
  },
  {
   "cell_type": "code",
   "execution_count": null,
   "metadata": {},
   "outputs": [],
   "source": []
  }
 ],
 "metadata": {
  "kernelspec": {
   "display_name": "ml",
   "language": "python",
   "name": "python3"
  },
  "language_info": {
   "codemirror_mode": {
    "name": "ipython",
    "version": 3
   },
   "file_extension": ".py",
   "mimetype": "text/x-python",
   "name": "python",
   "nbconvert_exporter": "python",
   "pygments_lexer": "ipython3",
   "version": "3.11.3"
  },
  "orig_nbformat": 4
 },
 "nbformat": 4,
 "nbformat_minor": 2
}
